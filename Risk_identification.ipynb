{
  "nbformat": 4,
  "nbformat_minor": 0,
  "metadata": {
    "colab": {
      "provenance": []
    },
    "kernelspec": {
      "name": "python3",
      "display_name": "Python 3"
    },
    "language_info": {
      "name": "python"
    }
  },
  "cells": [
    {
      "cell_type": "code",
      "source": [
        "!pip install streamlit\n",
        "!pip install google-generativeai\n",
        "!pip install python-dotenv\n",
        "!pip install langchain\n",
        "!pip install chromadb\n",
        "!pip install faiss-cpu\n",
        "!pip install langchain_google_genai\n",
        "!pip install langchain-community langchain-core\n",
        "!pip install pandas"
      ],
      "metadata": {
        "id": "f-eouQ4Qh2ik"
      },
      "execution_count": null,
      "outputs": []
    },
    {
      "cell_type": "code",
      "execution_count": 41,
      "metadata": {
        "colab": {
          "base_uri": "https://localhost:8080/"
        },
        "id": "m0X76p5hdzzs",
        "outputId": "392a4c77-ff53-484d-e0d3-fbaf33f51fa3"
      },
      "outputs": [
        {
          "output_type": "stream",
          "name": "stdout",
          "text": [
            "Drive already mounted at /content/drive; to attempt to forcibly remount, call drive.mount(\"/content/drive\", force_remount=True).\n"
          ]
        }
      ],
      "source": [
        "import urllib\n",
        "import warnings\n",
        "from pathlib import Path as p\n",
        "import pandas as pd\n",
        "from langchain_google_genai import GoogleGenerativeAIEmbeddings\n",
        "from langchain.chains.question_answering import load_qa_chain\n",
        "from langchain.document_loaders import PyPDFLoader\n",
        "from langchain.text_splitter import RecursiveCharacterTextSplitter\n",
        "from langchain.vectorstores import Chroma\n",
        "from langchain.chains import RetrievalQA\n",
        "from google.colab import userdata\n",
        "from google.colab import drive\n",
        "drive.mount('/content/drive')\n",
        "api_key_=userdata.get('api_key')\n",
        "warnings.filterwarnings(\"ignore\")\n",
        "from langchain_google_genai import ChatGoogleGenerativeAI\n",
        "model=ChatGoogleGenerativeAI(model=\"gemini-2.0-flash\",google_api_key=api_key_,temperature=0.3,convert_system_message_to_human=True)\n",
        "\n",
        "def get_text_chunks(text):\n",
        "  text_splitter=RecursiveCharacterTextSplitter(chunk_size=10000,chunk_overlap=1000)\n",
        "  chunks=text_splitter.split_text(text)\n",
        "  return chunks\n",
        "df=pd.read_csv(\"/content/Maude_Export.csv\")\n"
      ]
    },
    {
      "cell_type": "code",
      "source": [
        "fa=[]\n",
        "for i in range(5):\n",
        "  s=df.iloc[[i],[0]].to_string()\n",
        "  chunks=get_text_chunks(s)\n",
        "  embeddings=GoogleGenerativeAIEmbeddings(model=\"models/embedding-001\",google_api_key=api_key_)\n",
        "  vector_index=Chroma.from_texts(chunks,embeddings).as_retriever(search_kwargs={\"k\":10})\n",
        "  qa_chain=RetrievalQA.from_chain_type(\n",
        "    model,\n",
        "    retriever=vector_index,\n",
        "    return_source_documents=True\n",
        "  )\n",
        "  question=\"which is the product failure in this complaint and provide only failure name in the answer\"\n",
        "  result=qa_chain({\"query\":question})\n",
        "  fa.append(result[\"result\"])\n",
        "print(fa)\n"
      ],
      "metadata": {
        "colab": {
          "base_uri": "https://localhost:8080/"
        },
        "id": "URrRF-twijHC",
        "outputId": "1d3eab7a-1406-4910-fd92-99fee038ced6"
      },
      "execution_count": 50,
      "outputs": [
        {
          "output_type": "stream",
          "name": "stdout",
          "text": [
            "['FAILED PREVENTIVE MAINTENANCE', 'FAILS VOLUME AND PATIENT SIDE OCCLUSION', 'FAILS VOLUME AND PATIENT SIDE OCCLUSION', 'FAILS VOLUME AND PATIENT SIDE OCCLUSION', 'FAILS VOLUME AND PATIENT SIDE OCCLUSION']\n"
          ]
        }
      ]
    }
  ]
}